{
 "cells": [
  {
   "cell_type": "markdown",
   "metadata": {},
   "source": [
    "In this notebook, we infer the CondBERT model proposed in [the paper](https://arxiv.org/abs/2109.08914).\n",
    "\n",
    "This model is essentially a zero-shot BERT applied to tokens replacement task. We firstly replace the toxic words with the `[MASK]` token, and then the BERT is inferred to replace the masks with words that fit the meaning."
   ]
  },
  {
   "cell_type": "code",
   "execution_count": 1,
   "metadata": {},
   "outputs": [],
   "source": [
    "import sys\n",
    "\n",
    "sys.path.insert(0, '../')\n",
    "\n",
    "from src.models.condbert.condbert_inference import CondBERT"
   ]
  },
  {
   "cell_type": "code",
   "execution_count": 4,
   "metadata": {},
   "outputs": [
    {
     "name": "stderr",
     "output_type": "stream",
     "text": [
      "Some weights of the model checkpoint at bert-base-uncased were not used when initializing BertForMaskedLM: ['bert.pooler.dense.weight', 'cls.seq_relationship.weight', 'bert.pooler.dense.bias', 'cls.seq_relationship.bias']\n",
      "- This IS expected if you are initializing BertForMaskedLM from the checkpoint of a model trained on another task or with another architecture (e.g. initializing a BertForSequenceClassification model from a BertForPreTraining model).\n",
      "- This IS NOT expected if you are initializing BertForMaskedLM from the checkpoint of a model that you expect to be exactly identical (initializing a BertForSequenceClassification model from a BertForSequenceClassification model).\n"
     ]
    }
   ],
   "source": [
    "condbert = CondBERT(dir_path='../src/models/condbert/')"
   ]
  },
  {
   "cell_type": "code",
   "execution_count": 5,
   "metadata": {},
   "outputs": [
    {
     "name": "stdout",
     "output_type": "stream",
     "text": [
      "Sample:\t\t'What a great sunny day, I miss it.'\n",
      "Paraphrase:\twhat a great sunny day , i miss it .\n",
      "\n",
      "Sample:\t\t'I didn't fuck him'\n",
      "Paraphrase:\ti didn ' t see him\n",
      "\n",
      "Sample:\t\t'I'm going to hit you in all directions, civil and criminal, on all counts.'\n",
      "Paraphrase:\ti ' m going to hit you in all directions , civil and criminal , on all counts .\n",
      "\n",
      "Sample:\t\t'What a fucked rainy day, goddamnit.'\n",
      "Paraphrase:\twhat a right rainy day , ofit .\n",
      "\n",
      "Sample:\t\t'hello there! i'm a piece of shit :)'\n",
      "Paraphrase:\thello there ! i ' m a piece of myself : )\n",
      "\n",
      "Sample:\t\t'i'm gonna un-fuck your shit uptight, motherfucker!'\n",
      "Paraphrase:\ti ' m gonna un - be your way uptight , i 'ser !\n",
      "\n"
     ]
    }
   ],
   "source": [
    "samples = [\n",
    "    \"What a great sunny day, I miss it.\",\n",
    "    \"I didn't fuck him\",\n",
    "    \"I'm going to hit you in all directions, civil and criminal, on all counts.\",\n",
    "    \"What a fucked rainy day, goddamnit.\",\n",
    "    \"hello there! i'm a piece of shit :)\",\n",
    "    \"i'm gonna un-fuck your shit uptight, motherfucker!\",\n",
    "]\n",
    "\n",
    "for sample in samples:\n",
    "    paraphrase = condbert.detoxify(sentence=sample)\n",
    "        \n",
    "    print(f\"Sample:\\t\\t'{sample}'\")\n",
    "    print(f\"Paraphrase:\\t{paraphrase}\" + \"\\n\")"
   ]
  },
  {
   "cell_type": "markdown",
   "metadata": {},
   "source": [
    "We see this model solves the problem much worse compared to T5, for example.\n",
    "\n",
    "- Although the toxicity is removed, we often see some artifacts instead of removed words.\n",
    "- The initial sentence intent may not be preserved, especially in short sentences, where each token carries some semantic weight. In this case, masking of only one token could result in sense missing."
   ]
  }
 ],
 "metadata": {
  "kernelspec": {
   "display_name": "Python 3 (ipykernel)",
   "language": "python",
   "name": "python3"
  },
  "language_info": {
   "codemirror_mode": {
    "name": "ipython",
    "version": 3
   },
   "file_extension": ".py",
   "mimetype": "text/x-python",
   "name": "python",
   "nbconvert_exporter": "python",
   "pygments_lexer": "ipython3",
   "version": "3.9.13"
  }
 },
 "nbformat": 4,
 "nbformat_minor": 4
}
