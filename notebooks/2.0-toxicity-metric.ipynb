{
 "cells": [
  {
   "cell_type": "markdown",
   "metadata": {},
   "source": [
    "In this notebook, we use the toxicity classifier trained by Skolkovo Intitute ([link](https://huggingface.co/s-nlp/roberta_toxicity_classifier)) to retrieve both toxicity label (True/False) and toxicity metric (float number) for a given text sample. The model itself is a RoBERTa fine-tuned on toxicity classification task.\n",
    "\n",
    "- The toxicity metric is retrieved as the model output layer logits (the smaller the value, the more toxic the text).\n",
    "\n",
    "- The toxicity label is assigned as it is done inside the model, i.e. according to the logits value (positive => non-toxic, negative => toxic)."
   ]
  },
  {
   "cell_type": "code",
   "execution_count": 4,
   "metadata": {},
   "outputs": [],
   "source": [
    "import numpy as np\n",
    "\n",
    "from tqdm import tqdm\n",
    "from transformers import RobertaTokenizer, RobertaForSequenceClassification\n",
    "from typing import List"
   ]
  },
  {
   "cell_type": "code",
   "execution_count": 5,
   "metadata": {},
   "outputs": [],
   "source": [
    "def measure_toxicity(texts: List[str], batch_size: int = 32):\n",
    "    res_labels = []\n",
    "    res_scores = []\n",
    "\n",
    "    tokenizer = RobertaTokenizer.from_pretrained('SkolkovoInstitute/roberta_toxicity_classifier')\n",
    "    model = RobertaForSequenceClassification.from_pretrained('SkolkovoInstitute/roberta_toxicity_classifier')\n",
    "\n",
    "    for i in tqdm(range(0, len(texts), batch_size)):\n",
    "        batch = tokenizer(texts[i:i + batch_size], return_tensors='pt', padding=True)\n",
    "\n",
    "        labels = model(**batch)['logits'].argmax(1).float().data.tolist()\n",
    "        res_labels.extend(labels)\n",
    "\n",
    "        logits_tensors = model(**batch)['logits'].float().data\n",
    "        logits_tensors = logits_tensors[:, 0] - logits_tensors[:, 1]\n",
    "        logits_list = logits_tensors.view(-1, 1).tolist()\n",
    "        res_scores.extend(logits_list)\n",
    "\n",
    "    return res_labels, res_scores"
   ]
  },
  {
   "cell_type": "code",
   "execution_count": 6,
   "metadata": {},
   "outputs": [],
   "source": [
    "samples = [\n",
    "    \"What a great sunny day, I miss it.\",\n",
    "    \"hello there! i'm a piece of a non-toxic text\",\n",
    "    \"I didn't screw him\",\n",
    "    \"I didn't fuck him\",\n",
    "    \"I'm going to hit you in all directions, civil and criminal, on all counts.\",\n",
    "    \"What a fucked rainy day, goddamnit.\",\n",
    "    \"hello there! i'm a piece of shit :)\",\n",
    "]"
   ]
  },
  {
   "cell_type": "code",
   "execution_count": 9,
   "metadata": {},
   "outputs": [
    {
     "name": "stderr",
     "output_type": "stream",
     "text": [
      "Some weights of the model checkpoint at SkolkovoInstitute/roberta_toxicity_classifier were not used when initializing RobertaForSequenceClassification: ['roberta.pooler.dense.bias', 'roberta.pooler.dense.weight']\n",
      "- This IS expected if you are initializing RobertaForSequenceClassification from the checkpoint of a model trained on another task or with another architecture (e.g. initializing a BertForSequenceClassification model from a BertForPreTraining model).\n",
      "- This IS NOT expected if you are initializing RobertaForSequenceClassification from the checkpoint of a model that you expect to be exactly identical (initializing a BertForSequenceClassification model from a BertForSequenceClassification model).\n",
      "100%|██████████| 1/1 [00:00<00:00,  3.12it/s]"
     ]
    },
    {
     "name": "stdout",
     "output_type": "stream",
     "text": [
      "\n",
      "'What a great sunny day, I miss it.'\n",
      "toxicity score: 10.05\t(non toxic)\n",
      "\n",
      "'hello there! i'm a piece of a non-toxic text'\n",
      "toxicity score: 5.66\t(non toxic)\n",
      "\n",
      "'I didn't screw him'\n",
      "toxicity score: -0.94\t(toxic)\n",
      "\n",
      "'I didn't fuck him'\n",
      "toxicity score: -5.59\t(toxic)\n",
      "\n",
      "'I'm going to hit you in all directions, civil and criminal, on all counts.'\n",
      "toxicity score: -4.71\t(toxic)\n",
      "\n",
      "'What a fucked rainy day, goddamnit.'\n",
      "toxicity score: -6.52\t(toxic)\n",
      "\n",
      "'hello there! i'm a piece of shit :)'\n",
      "toxicity score: -6.13\t(toxic)\n",
      "\n"
     ]
    },
    {
     "name": "stderr",
     "output_type": "stream",
     "text": [
      "\n"
     ]
    }
   ],
   "source": [
    "toxicity_labels, toxicity_scores = measure_toxicity(samples)\n",
    "\n",
    "print()\n",
    "for sample, toxicity_label, toxicity_score in zip(samples, toxicity_labels, toxicity_scores):\n",
    "    toxicity_label = \"toxic\" if toxicity_label else \"non toxic\"\n",
    "\n",
    "    print(f\"'{sample}'\")\n",
    "    print(f\"toxicity score: {toxicity_score[0]:.2f}\\t({toxicity_label})\" + \"\\n\")"
   ]
  },
  {
   "cell_type": "markdown",
   "metadata": {},
   "source": [
    "We see the model measures toxicity quite accurately for the data considered."
   ]
  }
 ],
 "metadata": {
  "kernelspec": {
   "display_name": "iu_pmldl_ass1",
   "language": "python",
   "name": "python3"
  },
  "language_info": {
   "codemirror_mode": {
    "name": "ipython",
    "version": 3
   },
   "file_extension": ".py",
   "mimetype": "text/x-python",
   "name": "python",
   "nbconvert_exporter": "python",
   "pygments_lexer": "ipython3",
   "version": "3.9.13"
  }
 },
 "nbformat": 4,
 "nbformat_minor": 2
}
